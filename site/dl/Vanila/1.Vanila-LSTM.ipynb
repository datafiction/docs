{
 "cells": [
  {
   "cell_type": "markdown",
   "metadata": {},
   "source": [
    "# 1. Vanila LSTM"
   ]
  },
  {
   "cell_type": "code",
   "execution_count": 12,
   "metadata": {
    "collapsed": true
   },
   "outputs": [],
   "source": [
    "from random import randint\n",
    "from numpy import array\n",
    "from numpy import argmax"
   ]
  },
  {
   "cell_type": "markdown",
   "metadata": {},
   "source": [
    "#### Sequence Generator"
   ]
  },
  {
   "cell_type": "code",
   "execution_count": 13,
   "metadata": {},
   "outputs": [],
   "source": [
    "def generate_sequence(length, n_features):\n",
    "    return [randint(0, n_features-1) for _ in range(length)]"
   ]
  },
  {
   "cell_type": "markdown",
   "metadata": {},
   "source": [
    "Generate random sequence"
   ]
  },
  {
   "cell_type": "code",
   "execution_count": 14,
   "metadata": {},
   "outputs": [
    {
     "name": "stdout",
     "output_type": "stream",
     "text": [
      "[81, 54, 44, 82, 86, 43, 46, 20, 85, 71, 55, 58, 26, 78, 66, 70, 38, 55, 91, 25, 51, 32, 89, 9, 83]\n"
     ]
    }
   ],
   "source": [
    "sequence = generate_sequence(25, 100)\n",
    "print(sequence)"
   ]
  },
  {
   "cell_type": "markdown",
   "metadata": {},
   "source": [
    "#### One Hot Encoder\n",
    "One hot encode sequence"
   ]
  },
  {
   "cell_type": "code",
   "execution_count": 15,
   "metadata": {},
   "outputs": [],
   "source": [
    "def one_hot_encode(sequence, n_features):\n",
    "    encoding = list()\n",
    "    for value in sequence:\n",
    "        vector = [0 for _ in range(n_features)]\n",
    "        vector[value] = 1\n",
    "        encoding.append(vector)\n",
    "    return array(encoding)"
   ]
  },
  {
   "cell_type": "code",
   "execution_count": 16,
   "metadata": {},
   "outputs": [
    {
     "name": "stdout",
     "output_type": "stream",
     "text": [
      "[[0 0 0 ..., 0 0 0]\n",
      " [0 0 0 ..., 0 0 0]\n",
      " [0 0 0 ..., 0 0 0]\n",
      " ..., \n",
      " [0 0 0 ..., 0 0 0]\n",
      " [0 0 0 ..., 0 0 0]\n",
      " [0 0 0 ..., 0 0 0]]\n"
     ]
    }
   ],
   "source": [
    "encoded = one_hot_encode(sequence, 100)\n",
    "print(encoded)"
   ]
  },
  {
   "cell_type": "markdown",
   "metadata": {},
   "source": [
    "#### One Hot Decoder\n",
    "Decode a one hot encoded string"
   ]
  },
  {
   "cell_type": "code",
   "execution_count": 17,
   "metadata": {},
   "outputs": [],
   "source": [
    "def one_hot_decode(encoded_seq):\n",
    "    return [argmax(vector) for vector in encoded_seq]"
   ]
  },
  {
   "cell_type": "markdown",
   "metadata": {},
   "source": [
    "One hot decode"
   ]
  },
  {
   "cell_type": "code",
   "execution_count": 18,
   "metadata": {},
   "outputs": [
    {
     "name": "stdout",
     "output_type": "stream",
     "text": [
      "[81, 54, 44, 82, 86, 43, 46, 20, 85, 71, 55, 58, 26, 78, 66, 70, 38, 55, 91, 25, 51, 32, 89, 9, 83]\n"
     ]
    }
   ],
   "source": [
    "decoded = one_hot_decode(encoded)\n",
    "print(decoded)"
   ]
  },
  {
   "cell_type": "markdown",
   "metadata": {},
   "source": [
    "#### Generate Sequence Examples"
   ]
  },
  {
   "cell_type": "code",
   "execution_count": 19,
   "metadata": {
    "collapsed": true
   },
   "outputs": [],
   "source": [
    "length = 5\n",
    "n_features =10"
   ]
  },
  {
   "cell_type": "code",
   "execution_count": 27,
   "metadata": {},
   "outputs": [
    {
     "name": "stdout",
     "output_type": "stream",
     "text": [
      "Sequence is: [2, 4, 2, 5, 7],\n",
      " encoded is :[[0 0 1 0 0 0 0 0 0 0]\n",
      " [0 0 0 0 1 0 0 0 0 0]\n",
      " [0 0 1 0 0 0 0 0 0 0]\n",
      " [0 0 0 0 0 1 0 0 0 0]\n",
      " [0 0 0 0 0 0 0 1 0 0]],\n",
      " X has shape: (1, 5, 10),\n",
      " X is: [[[0 0 1 0 0 0 0 0 0 0]\n",
      "  [0 0 0 0 1 0 0 0 0 0]\n",
      "  [0 0 1 0 0 0 0 0 0 0]\n",
      "  [0 0 0 0 0 1 0 0 0 0]\n",
      "  [0 0 0 0 0 0 0 1 0 0]]]\n"
     ]
    }
   ],
   "source": [
    "#generate sequence\n",
    "sequence = generate_sequence(length, n_features)\n",
    "\n",
    "# one hot encode\n",
    "encoded = one_hot_encode(sequence, n_features)\n",
    "\n",
    "# reshape sequence to be 3D\n",
    "X = encoded.reshape((1, length, n_features))\n",
    "print('Sequence is: {},\\n encoded is :{},\\n X has shape: {},\\n X is: {}'\\\n",
    "      .format(sequence,encoded,X.shape,X))"
   ]
  },
  {
   "cell_type": "code",
   "execution_count": 28,
   "metadata": {},
   "outputs": [
    {
     "data": {
      "text/plain": [
       "array([[0, 0, 1, 0, 0, 0, 0, 0, 0, 0]])"
      ]
     },
     "execution_count": 28,
     "metadata": {},
     "output_type": "execute_result"
    }
   ],
   "source": [
    "y = encoded[2].reshape(1, n_features)\n",
    "y"
   ]
  },
  {
   "cell_type": "markdown",
   "metadata": {},
   "source": [
    "Generate one example for an lstm"
   ]
  },
  {
   "cell_type": "code",
   "execution_count": 29,
   "metadata": {
    "collapsed": true
   },
   "outputs": [],
   "source": [
    "def generate_example(length, n_features, out_index):\n",
    "    \n",
    "    # generate sequence\n",
    "    sequence = generate_sequence(length, n_features)\n",
    "    \n",
    "    # one hot encode\n",
    "    encoded = one_hot_encode(sequence, n_features)\n",
    "    \n",
    "    # reshape sequence to be 3D\n",
    "    X = encoded.reshape((1, length, n_features))\n",
    "    \n",
    "    # select output\n",
    "    y = encoded[out_index].reshape(1, n_features)\n",
    "    \n",
    "    return X, y"
   ]
  },
  {
   "cell_type": "markdown",
   "metadata": {},
   "source": [
    "-------"
   ]
  },
  {
   "cell_type": "markdown",
   "metadata": {},
   "source": [
    "####  Vanila LSTM"
   ]
  },
  {
   "cell_type": "code",
   "execution_count": 30,
   "metadata": {},
   "outputs": [],
   "source": [
    "from keras.models import Sequential\n",
    "from keras.layers import LSTM\n",
    "from keras.layers import Dense"
   ]
  },
  {
   "cell_type": "markdown",
   "metadata": {},
   "source": [
    "* Define model"
   ]
  },
  {
   "cell_type": "code",
   "execution_count": 37,
   "metadata": {},
   "outputs": [
    {
     "name": "stdout",
     "output_type": "stream",
     "text": [
      "_________________________________________________________________\n",
      "Layer (type)                 Output Shape              Param #   \n",
      "=================================================================\n",
      "lstm_3 (LSTM)                (None, 25)                12600     \n",
      "_________________________________________________________________\n",
      "dense_3 (Dense)              (None, 100)               2600      \n",
      "=================================================================\n",
      "Total params: 15,200\n",
      "Trainable params: 15,200\n",
      "Non-trainable params: 0\n",
      "_________________________________________________________________\n",
      "None\n"
     ]
    }
   ],
   "source": [
    "length = 50\n",
    "n_features = 100\n",
    "out_index = 2\n",
    "\n",
    "\n",
    "model = Sequential()\n",
    "\n",
    "model.add(LSTM(25, input_shape=(length, n_features)))\n",
    "\n",
    "model.add(Dense(n_features, activation='softmax')) \n",
    "\n",
    "model.compile(loss='categorical_crossentropy',\n",
    "              optimizer='adam',\n",
    "              metrics=['acc']) \n",
    "\n",
    "print(model.summary())"
   ]
  },
  {
   "cell_type": "markdown",
   "metadata": {},
   "source": [
    "* Fit model"
   ]
  },
  {
   "cell_type": "code",
   "execution_count": 38,
   "metadata": {},
   "outputs": [
    {
     "name": "stdout",
     "output_type": "stream",
     "text": [
      "Epoch 1/1\n",
      "1s - loss: 4.6111 - acc: 0.0000e+00\n",
      "Epoch 1/1\n",
      "0s - loss: 4.5636 - acc: 0.0000e+00\n",
      "Epoch 1/1\n",
      "0s - loss: 4.6073 - acc: 0.0000e+00\n",
      "Epoch 1/1\n",
      "0s - loss: 4.5968 - acc: 0.0000e+00\n",
      "Epoch 1/1\n",
      "0s - loss: 4.5582 - acc: 0.0000e+00\n",
      "Epoch 1/1\n",
      "0s - loss: 4.5816 - acc: 0.0000e+00\n",
      "Epoch 1/1\n",
      "0s - loss: 4.6481 - acc: 0.0000e+00\n",
      "Epoch 1/1\n",
      "0s - loss: 4.5947 - acc: 0.0000e+00\n",
      "Epoch 1/1\n",
      "0s - loss: 4.6196 - acc: 0.0000e+00\n",
      "Epoch 1/1\n",
      "0s - loss: 4.5835 - acc: 0.0000e+00\n"
     ]
    }
   ],
   "source": [
    "for i in range(10):\n",
    "    X, y = generate_example(length, n_features, out_index)\n",
    "    model.fit(X, y, epochs=1, verbose=2)"
   ]
  },
  {
   "cell_type": "markdown",
   "metadata": {},
   "source": [
    "* Evaluate model"
   ]
  },
  {
   "cell_type": "code",
   "execution_count": 40,
   "metadata": {},
   "outputs": [
    {
     "name": "stdout",
     "output_type": "stream",
     "text": [
      "Accuracy: 0.000000\n"
     ]
    }
   ],
   "source": [
    "correct = 0\n",
    "for i in range(100):\n",
    "    X, y = generate_example(length, n_features, out_index)\n",
    "    yhat = model.predict(X)\n",
    "    if one_hot_decode(yhat) == one_hot_decode(y):\n",
    "        correct += 1\n",
    "print('Accuracy: %f' % ((correct/100)*100.0))"
   ]
  },
  {
   "cell_type": "markdown",
   "metadata": {},
   "source": [
    "* Prediction on new data"
   ]
  },
  {
   "cell_type": "code",
   "execution_count": 41,
   "metadata": {},
   "outputs": [
    {
     "name": "stdout",
     "output_type": "stream",
     "text": [
      "Sequence: [[60, 56, 22, 5, 67, 76, 43, 14, 35, 72, 11, 48, 30, 44, 12, 55, 41, 79, 17, 70, 20, 39, 70, 1, 48, 94, 12, 56, 46, 4, 92, 77, 50, 12, 91, 50, 78, 59, 47, 83, 75, 19, 15, 57, 78, 34, 88, 75, 3, 19]]\n",
      "Expected: [22]\n",
      "Predicted: [30]\n"
     ]
    }
   ],
   "source": [
    "X, y = generate_example(length, n_features, out_index) \n",
    "yhat = model.predict(X)\n",
    "print('Sequence: %s' % [one_hot_decode(x) for x in X])\n",
    "print('Expected: %s' % one_hot_decode(y)) \n",
    "print('Predicted: %s' % one_hot_decode(yhat))"
   ]
  },
  {
   "cell_type": "markdown",
   "metadata": {},
   "source": [
    "------"
   ]
  }
 ],
 "metadata": {
  "kernelspec": {
   "display_name": "Python 3",
   "language": "python",
   "name": "python3"
  },
  "language_info": {
   "codemirror_mode": {
    "name": "ipython",
    "version": 3
   },
   "file_extension": ".py",
   "mimetype": "text/x-python",
   "name": "python",
   "nbconvert_exporter": "python",
   "pygments_lexer": "ipython3",
   "version": "3.7.1"
  },
  "widgets": {
   "state": {},
   "version": "1.1.2"
  }
 },
 "nbformat": 4,
 "nbformat_minor": 2
}
